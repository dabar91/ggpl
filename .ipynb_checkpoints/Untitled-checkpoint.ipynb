{
 "cells": [
  {
   "cell_type": "markdown",
   "metadata": {},
   "source": [
    "Workshop 1 \n"
   ]
  },
  {
   "cell_type": "markdown",
   "metadata": {},
   "source": [
    "Lezione 2017-10-23"
   ]
  },
  {
   "cell_type": "markdown",
   "metadata": {},
   "source": [
    "Script 1 : (Italy’s Football Cup)"
   ]
  },
  {
   "cell_type": "code",
   "execution_count": null,
   "metadata": {
    "collapsed": true
   },
   "outputs": [],
   "source": [
    "DEF c1 = circle:1:<48,1> ACOLOR rgbacolor:<0,1,0,1>; DEF c2 = circle:0.7:<48,1> ACOLOR rgbacolor:<1,1,1,1>; DEF c3 = circle:0.4:<48,1> ACOLOR rgbacolor:<1,0,0,1>;\n",
    "DEF out = STRUCT:< c1, c2, c3 >; flash:out:100:′/path/out.swf′;"
   ]
  },
  {
   "cell_type": "markdown",
   "metadata": {},
   "source": [
    "DEF c1 = circle:1:<48,1> ACOLOR rgbacolor:<0,1,0,1>;\n",
    "DEF c2 = circle:0.7:<48,1> ACOLOR rgbacolor:<1,1,1,1>;\n",
    "DEF c3 = circle:0.4:<48,1> ACOLOR rgbacolor:<1,0,0,1>;\n",
    "DEF out = STRUCT:< c1, c2, c3 >;\n",
    "flash:out:100:′/path/out.swf′;"
   ]
  },
  {
   "cell_type": "markdown",
   "metadata": {},
   "source": [
    "DEF c1 = circle:1:<48,1> ACOLOR rgbacolor:<0,1,0,1>;\n",
    "DEF c2 = circle:0.7:<48,1> ACOLOR rgbacolor:<1,1,1,1>;"
   ]
  },
  {
   "cell_type": "raw",
   "metadata": {},
   "source": [
    "DEF c1 = circle:1:<48,1> ACOLOR rgbacolor:<0,1,0,1>; \n",
    "DEF c2 = circle:0.7:<48,1> ACOLOR rgbacolor:<1,1,1,1>;"
   ]
  },
  {
   "cell_type": "raw",
   "metadata": {},
   "source": [
    "DEF c1 = circle:1:<48,1> ACOLOR rgbacolor:<0,1,0,1>; \n",
    "DEF c2 = circle:0.7:<48,1> ACOLOR rgbacolor:<1,1,1,1>; \n",
    "DEF c3 = circle:0.4:<48,1> ACOLOR rgbacolor:<1,0,0,1>;\n",
    "DEF out = STRUCT:< c1, c2, c3 >; \n",
    "flash:out:100:′/path/out.swf′;"
   ]
  },
  {
   "cell_type": "code",
   "execution_count": 5,
   "metadata": {},
   "outputs": [
    {
     "ename": "SyntaxError",
     "evalue": "invalid syntax (<ipython-input-5-ef6aa3f8304a>, line 3)",
     "output_type": "error",
     "traceback": [
      "\u001b[0;36m  File \u001b[0;32m\"<ipython-input-5-ef6aa3f8304a>\"\u001b[0;36m, line \u001b[0;32m3\u001b[0m\n\u001b[0;31m    def c1 : circle(1,[48,1]) ACOLOR rgbacolor([0,1,0,1]);\u001b[0m\n\u001b[0m           ^\u001b[0m\n\u001b[0;31mSyntaxError\u001b[0m\u001b[0;31m:\u001b[0m invalid syntax\n"
     ]
    }
   ],
   "source": [
    "from pyplam import *\n",
    "from larlib import *\n",
    "def c1 : circle(1,[48,1]) ACOLOR rgbacolor([0,1,0,1]);\n",
    "def c2 : circle(0.7,[48,1]) ACOLOR rgbacolor([1,1,1,1]);\n",
    "def c3 : circle(0.4,[48,1]) ACOLOR rgbacolor([1,0,0,1]);\n",
    "def out : STRUCT([c1,c2,c3]);\n",
    "\n",
    "\n",
    "VIEW(out)\n"
   ]
  },
  {
   "cell_type": "code",
   "execution_count": 6,
   "metadata": {},
   "outputs": [
    {
     "ename": "SyntaxError",
     "evalue": "invalid syntax (<ipython-input-6-ef6aa3f8304a>, line 3)",
     "output_type": "error",
     "traceback": [
      "\u001b[0;36m  File \u001b[0;32m\"<ipython-input-6-ef6aa3f8304a>\"\u001b[0;36m, line \u001b[0;32m3\u001b[0m\n\u001b[0;31m    def c1 : circle(1,[48,1]) ACOLOR rgbacolor([0,1,0,1]);\u001b[0m\n\u001b[0m           ^\u001b[0m\n\u001b[0;31mSyntaxError\u001b[0m\u001b[0;31m:\u001b[0m invalid syntax\n"
     ]
    }
   ],
   "source": [
    "from pyplam import *\n",
    "from larlib import *\n",
    "def c1 : CIRCLE(1,[48,1]) ACOLOR rgbacolor([0,1,0,1]);\n",
    "def c2 : CIRCLE(0.7,[48,1]) ACOLOR rgbacolor([1,1,1,1]);\n",
    "def c3 : CIRCLE(0.4,[48,1]) ACOLOR rgbacolor([1,0,0,1]);\n",
    "def out : STRUCT([c1,c2,c3]);\n",
    "\n",
    "\n",
    "VIEW(out)"
   ]
  },
  {
   "cell_type": "code",
   "execution_count": null,
   "metadata": {
    "collapsed": true
   },
   "outputs": [],
   "source": []
  }
 ],
 "metadata": {
  "kernelspec": {
   "display_name": "Python 2",
   "language": "python",
   "name": "python2"
  },
  "language_info": {
   "codemirror_mode": {
    "name": "ipython",
    "version": 2
   },
   "file_extension": ".py",
   "mimetype": "text/x-python",
   "name": "python",
   "nbconvert_exporter": "python",
   "pygments_lexer": "ipython2",
   "version": "2.7.13"
  }
 },
 "nbformat": 4,
 "nbformat_minor": 2
}
