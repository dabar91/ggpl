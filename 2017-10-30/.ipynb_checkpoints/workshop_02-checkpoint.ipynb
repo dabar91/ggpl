{
 "cells": [
  {
   "cell_type": "markdown",
   "metadata": {},
   "source": [
    "Workshop 2 2017-10-30\n",
    "==========="
   ]
  },
  {
   "cell_type": "code",
   "execution_count": 2,
   "metadata": {},
   "outputs": [
    {
     "name": "stdout",
     "output_type": "stream",
     "text": [
      "Evaluating fenvs.py..\n",
      "...fenvs.py imported in 0.00524 seconds\n"
     ]
    }
   ],
   "source": [
    "from larlib import *"
   ]
  },
  {
   "cell_type": "code",
   "execution_count": null,
   "metadata": {
    "collapsed": true
   },
   "outputs": [],
   "source": [
    "latoM1B = CUBOID([1,2,0.1])\n",
    "latoM1T = T(3)(2)(latoM1B)\n",
    "latoM11 = CUBOID([1,0.1,2])\n",
    "latoM12 = T(2)(1.9)(latoM11)\n",
    "latoM1D = CUBOID([0.1,2,2])\n",
    "\n",
    "\n",
    "\n",
    "latoM2B = CUBOID([1,5,0.1])\n",
    "latoM2T = T(3)(2)(latoM2B)\n",
    "latoM2M = T(3)(1)(latoM2B)\n",
    "latoM21 = CUBOID([1,0.1,2])\n",
    "latoM22 = T(2)(5)(latoM21)\n",
    "latoM2D = CUBOID([0.1,5,2])\n",
    "\n",
    "mobile=STRUCT([latoM1B,latoM1T,latoM1D,latoM11,latoM12])\n",
    "mobile1=STRUCT([mobile,T(3)(2),mobile,T(3)(2),mobile,T(3)(2)])\n",
    "mobile1= STRUCT([mobile1,T(2)([1,2])(mobile1)])\n",
    "mobile1 = HEX(\"#cd853f\")(mobile1)\n",
    "\n",
    "mobile2 = STRUCT([latoM2B,latoM2M,latoM2T,latoM21,latoM22,latoM2D])\n",
    "mobile2 = HEX(\"#cd853f\")(mobile2)\n",
    "\n",
    "\n",
    "basetele1=CUBOID([1,2,0.1])\n",
    "basetele2= CUBOID([0.1,0.5,0.5])\n",
    "basetele2= TOP([basetele1,basetele2])\n",
    "tele = CUBOID([0.1,4,2])\n",
    "\n",
    "tele= TOP([basetele2,tele])\n",
    "tele = COLOR(BLACK)(tele)\n",
    "centro = TOP([mobile2,tele])\n",
    "\n",
    "out = STRUCT([mobile1,T(2)(3)(centro),T(2)(8)(mobile1)])\n",
    "\n",
    "VIEW(out)"
   ]
  },
  {
   "cell_type": "markdown",
   "metadata": {
    "collapsed": true
   },
   "source": [
    "![mobile](figure/mobile_ikea.png)"
   ]
  },
  {
   "cell_type": "code",
   "execution_count": null,
   "metadata": {
    "collapsed": true
   },
   "outputs": [],
   "source": []
  },
  {
   "cell_type": "code",
   "execution_count": null,
   "metadata": {
    "collapsed": true
   },
   "outputs": [],
   "source": []
  }
 ],
 "metadata": {
  "kernelspec": {
   "display_name": "Python 2",
   "language": "python",
   "name": "python2"
  },
  "language_info": {
   "codemirror_mode": {
    "name": "ipython",
    "version": 2
   },
   "file_extension": ".py",
   "mimetype": "text/x-python",
   "name": "python",
   "nbconvert_exporter": "python",
   "pygments_lexer": "ipython2",
   "version": "2.7.13"
  }
 },
 "nbformat": 4,
 "nbformat_minor": 2
}
