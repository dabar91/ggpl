{
 "cells": [
  {
   "cell_type": "markdown",
   "metadata": {},
   "source": [
    "Workshop 1 2017-10-23\n",
    "====================="
   ]
  },
  {
   "cell_type": "markdown",
   "metadata": {},
   "source": [
    "Script 1 : Table Model\n",
    "---------------------"
   ]
  },
  {
   "cell_type": "raw",
   "metadata": {},
   "source": [
    "DEF Leg = CUBOID:< 0.1,0.1,0.7 >; \n",
    "DEF Plane = CUBOID:< 1, 1, 0.2>;\n",
    "DEF Table = STRUCT:<\n",
    "Leg, T:1:0.9, Leg, T:2:0.9, Leg, T:1:-0.9, Leg, T:<2,3>:<-0.9,0.7>, \n",
    "Plane >;\n",
    "\n",
    "VRML: Table:′out.wrl′;\n"
   ]
  },
  {
   "cell_type": "code",
   "execution_count": 3,
   "metadata": {},
   "outputs": [
    {
     "name": "stdout",
     "output_type": "stream",
     "text": [
      "Evaluating fenvs.py..\n",
      "...fenvs.py imported in 0.008034 seconds\n"
     ]
    },
    {
     "data": {
      "text/plain": [
       "<pyplasm.xgepy.Hpc; proxy of <Swig Object of type 'std::shared_ptr< Hpc > *' at 0x113eadd50> >"
      ]
     },
     "execution_count": 3,
     "metadata": {},
     "output_type": "execute_result"
    }
   ],
   "source": [
    "\n",
    "from larlib import * \n",
    "\n",
    "def Leg() : return CUBOID([0.1,0.1,0.7])\n",
    "def Plane() : return CUBOID([1,1,0.2])\n",
    "def Table() : return STRUCT([Leg(),T(1)(0.9),Leg(),T(2)(0.9),Leg(),T(1)(-0.9),Leg(),T([2,3])([-0.9,0.7]),Plane()])\n",
    "\n",
    "VIEW(Table())"
   ]
  },
  {
   "cell_type": "markdown",
   "metadata": {},
   "source": [
    "![tavolo](figure/table_model.png)"
   ]
  },
  {
   "cell_type": "markdown",
   "metadata": {},
   "source": [
    "Script 2 : Boolean example\n",
    "----------------------    "
   ]
  },
  {
   "cell_type": "raw",
   "metadata": {},
   "source": [
    "DEF a = T:<1,2>:<-0.5,-0.5>:(CUBOID:<1,1,1>);\n",
    "DEF b = R:<1,2>:(PI/4):a;\n",
    "STRUCT:<a+b,T:1:2,a&b,T:1:2,a∧ b,T:1:2,a-b>;\n"
   ]
  },
  {
   "cell_type": "code",
   "execution_count": null,
   "metadata": {
    "collapsed": true
   },
   "outputs": [],
   "source": [
    "a = T([1,2])([-0.5,-0.5])((CUBOID([1,1,1])))\n",
    "b = R([1,2])(PI/4)(a)\n",
    "form = STRUCT([UNION([a,b]), T(1)(2), INTERSECTION([a,b]), T(1)(2), XOR([a,b]), T(1)(2), DIFFERENCE([a,b])])\n",
    "VIEW(form)"
   ]
  },
  {
   "cell_type": "markdown",
   "metadata": {},
   "source": [
    "![tavolo](figure/boolean.png)"
   ]
  },
  {
   "cell_type": "markdown",
   "metadata": {},
   "source": [
    "Script 3: Table model (2)\n",
    "-----------------------"
   ]
  },
  {
   "cell_type": "raw",
   "metadata": {},
   "source": [
    "DEF legs = Q:< 0.1,-0.8,0.1 > * Q:< 0.1,-0.8,0.1 > * Q:0.7; \n",
    "DEF plane = Q:1 * Q:1 * Q:0.2;\n",
    "DEF table = Legs TOP Plane;\n",
    "DEF chair = S:<1,2,3>:<0.4,0.4,0.5>:Table;\n",
    "DEF assembly = chair RIGHT table RIGHT chair UP chair DOWN chair \n",
    "VRML:assembly:′out.wrl′\n"
   ]
  },
  {
   "cell_type": "code",
   "execution_count": null,
   "metadata": {
    "collapsed": true
   },
   "outputs": [],
   "source": [
    "from larlib import * \n",
    "legs = PROD([PROD([QUOTE([0.1,-0.8,0.1]),QUOTE([0.1,-0.8,0.1])]),QUOTE([0.7])])\n",
    "plane = PROD([PROD([QUOTE([1]),QUOTE([1])]),QUOTE([0.2])])\n",
    "table = TOP([legs,plane])\n",
    "chair = S([1,2,3])([0.4,0.4,0.5])(table)\n",
    "assembly= DOWN([UP([RIGHT([RIGHT([chair,table]),chair]),chair]),chair])\n",
    "\n",
    "VIEW(assembly)\n",
    "\n",
    "\n"
   ]
  },
  {
   "cell_type": "markdown",
   "metadata": {
    "collapsed": true
   },
   "source": [
    "![tavolo](figure/table_model2.png)"
   ]
  },
  {
   "cell_type": "code",
   "execution_count": null,
   "metadata": {
    "collapsed": true
   },
   "outputs": [],
   "source": []
  },
  {
   "cell_type": "code",
   "execution_count": null,
   "metadata": {
    "collapsed": true
   },
   "outputs": [],
   "source": []
  }
 ],
 "metadata": {
  "kernelspec": {
   "display_name": "Python 2",
   "language": "python",
   "name": "python2"
  },
  "language_info": {
   "codemirror_mode": {
    "name": "ipython",
    "version": 2
   },
   "file_extension": ".py",
   "mimetype": "text/x-python",
   "name": "python",
   "nbconvert_exporter": "python",
   "pygments_lexer": "ipython2",
   "version": "2.7.13"
  }
 },
 "nbformat": 4,
 "nbformat_minor": 2
}
